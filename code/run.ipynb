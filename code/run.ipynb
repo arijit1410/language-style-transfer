{
 "cells": [
  {
   "cell_type": "code",
   "execution_count": null,
   "metadata": {},
   "outputs": [
    {
     "name": "stdout",
     "output_type": "stream",
     "text": [
      "/usr/local/lib/python2.7/dist-packages/requests/__init__.py:83: RequestsDependencyWarning: Old version of cryptography ([1, 2, 3]) may cause slowdown.\n",
      "  warnings.warn(warning, RequestsDependencyWarning)\n",
      "------------------------------------------------\n",
      "{   'batch_size': 64,\n",
      "    'beam': 1,\n",
      "    'dev': '../data/age.dev',\n",
      "    'dim_emb': 100,\n",
      "    'dim_y': 200,\n",
      "    'dim_z': 500,\n",
      "    'dropout_keep_prob': 0.5,\n",
      "    'embedding': '',\n",
      "    'filter_sizes': '1,2,3,4,5',\n",
      "    'gamma_decay': 1,\n",
      "    'gamma_init': 0.1,\n",
      "    'gamma_min': 0.1,\n",
      "    'learning_rate': 0.0005,\n",
      "    'load_model': False,\n",
      "    'max_epochs': 20,\n",
      "    'max_seq_length': 20,\n",
      "    'max_train_size': -1,\n",
      "    'model': '../tmp/age_model',\n",
      "    'n_filters': 128,\n",
      "    'n_layers': 1,\n",
      "    'online_testing': False,\n",
      "    'output': '../tmp/age.dev',\n",
      "    'rho': 1,\n",
      "    'steps_per_checkpoint': 1000,\n",
      "    'test': '',\n",
      "    'train': '../data/age.train',\n",
      "    'vocab': '../tmp/age.vocab'}\n",
      "------------------------------------------------\n",
      "#sents of training file 0: 444372\n",
      "#sents of training file 1: 161050\n",
      "vocabulary size: 12188\n",
      "2019-11-07 23:43:52.180557: I tensorflow/core/platform/cpu_feature_guard.cc:141] Your CPU supports instructions that this TensorFlow binary was not compiled to use: AVX2 FMA\n"
     ]
    }
   ],
   "source": [
    "!python style_transfer.py --train ../data/age.train --dev ../data/age.dev --output ../tmp/age.dev --vocab ../tmp/age.vocab --model ../tmp/age_model"
   ]
  },
  {
   "cell_type": "code",
   "execution_count": null,
   "metadata": {},
   "outputs": [],
   "source": []
  }
 ],
 "metadata": {
  "kernelspec": {
   "display_name": "Python 3",
   "language": "python",
   "name": "python3"
  },
  "language_info": {
   "codemirror_mode": {
    "name": "ipython",
    "version": 3
   },
   "file_extension": ".py",
   "mimetype": "text/x-python",
   "name": "python",
   "nbconvert_exporter": "python",
   "pygments_lexer": "ipython3",
   "version": "3.5.2"
  }
 },
 "nbformat": 4,
 "nbformat_minor": 2
}
